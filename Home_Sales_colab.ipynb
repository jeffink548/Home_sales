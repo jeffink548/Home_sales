{
  "cells": [
    {
      "cell_type": "code",
      "execution_count": 5,
      "metadata": {
        "colab": {
          "base_uri": "https://localhost:8080/"
        },
        "id": "a_KW73O2e3dw",
        "outputId": "0f61176b-ff39-4a79-b114-c037bba783a0"
      },
      "outputs": [
        {
          "output_type": "stream",
          "name": "stdout",
          "text": [
            "\r0% [Working]\r            \rHit:1 https://cloud.r-project.org/bin/linux/ubuntu jammy-cran40/ InRelease\n",
            "Hit:2 https://developer.download.nvidia.com/compute/cuda/repos/ubuntu2204/x86_64  InRelease\n",
            "Hit:3 http://security.ubuntu.com/ubuntu jammy-security InRelease\n",
            "Hit:4 http://archive.ubuntu.com/ubuntu jammy InRelease\n",
            "Get:5 http://archive.ubuntu.com/ubuntu jammy-updates InRelease [119 kB]\n",
            "Hit:6 https://ppa.launchpadcontent.net/c2d4u.team/c2d4u4.0+/ubuntu jammy InRelease\n",
            "Get:7 http://archive.ubuntu.com/ubuntu jammy-backports InRelease [109 kB]\n",
            "Hit:8 https://ppa.launchpadcontent.net/deadsnakes/ppa/ubuntu jammy InRelease\n",
            "Hit:9 https://ppa.launchpadcontent.net/graphics-drivers/ppa/ubuntu jammy InRelease\n",
            "Hit:10 https://ppa.launchpadcontent.net/ubuntugis/ppa/ubuntu jammy InRelease\n",
            "Fetched 227 kB in 3s (89.8 kB/s)\n",
            "Reading package lists... Done\n"
          ]
        }
      ],
      "source": [
        "import os\n",
        "# Find the latest version of spark 3.x  from http://www.apache.org/dist/spark/ and enter as the spark version\n",
        "# For example:\n",
        "# spark_version = 'spark-3.4.0'\n",
        "spark_version = 'spark-3.4.0'\n",
        "os.environ['SPARK_VERSION']=spark_version\n",
        "\n",
        "# Install Spark and Java\n",
        "!apt-get update\n",
        "!apt-get install openjdk-11-jdk-headless -qq > /dev/null\n",
        "!wget -q http://www.apache.org/dist/spark/$SPARK_VERSION/$SPARK_VERSION-bin-hadoop3.tgz\n",
        "!tar xf $SPARK_VERSION-bin-hadoop3.tgz\n",
        "!pip install -q findspark\n",
        "\n",
        "# Set Environment Variables\n",
        "os.environ[\"JAVA_HOME\"] = \"/usr/lib/jvm/java-11-openjdk-amd64\"\n",
        "os.environ[\"SPARK_HOME\"] = f\"/content/{spark_version}-bin-hadoop3\"\n",
        "\n",
        "# Start a SparkSession\n",
        "import findspark\n",
        "findspark.init()"
      ]
    },
    {
      "cell_type": "code",
      "execution_count": 9,
      "metadata": {
        "id": "2XbWNf1Te5fM"
      },
      "outputs": [],
      "source": [
        "# Import packages\n",
        "from pyspark.sql import SparkSession\n",
        "import time\n",
        "import requests\n",
        "from io import StringIO\n",
        "import pandas as pd\n",
        "\n",
        "# Create a SparkSession\n",
        "spark = SparkSession.builder.appName(\"SparkSQL\").getOrCreate()"
      ]
    },
    {
      "cell_type": "code",
      "execution_count": 10,
      "metadata": {
        "id": "wOJqxG_RPSwp"
      },
      "outputs": [],
      "source": [
        "# 1. Read in the AWS S3 bucket into a DataFrame.\n",
        "from pyspark import SparkFiles\n",
        "url = \"https://2u-data-curriculum-team.s3.amazonaws.com/dataviz-classroom/v1.2/22-big-data/home_sales_revised.csv\"\n",
        "\n"
      ]
    },
    {
      "cell_type": "code",
      "execution_count": 12,
      "metadata": {
        "id": "RoljcJ7WPpnm",
        "colab": {
          "base_uri": "https://localhost:8080/"
        },
        "outputId": "886cf63c-d2a2-4dd6-9a34-1df2318226b6"
      },
      "outputs": [
        {
          "output_type": "execute_result",
          "data": {
            "text/plain": [
              "Row(id='f8a53099-ba1c-47d6-9c31-7398aa8f6089', date='2022-04-08', date_built=2016, price=936923, bedrooms=4, bathrooms=3, sqft_living=3167, sqft_lot=11733, floors=2, waterfront=1, view=76)"
            ]
          },
          "metadata": {},
          "execution_count": 12
        }
      ],
      "source": [
        "# 2. Create a temporary view of the DataFrame.\n",
        "response = requests.get(url)\n",
        "csv_data = response.text\n",
        "# Convert the CSV data to a Pandas DataFrame\n",
        "pandas_df = pd.read_csv(StringIO(csv_data))\n",
        "# Convert the Pandas DataFrame to a Spark DataFrame\n",
        "df = spark.createDataFrame(pandas_df)\n",
        "df.createOrReplaceTempView(\"home_sales\")\n",
        "df.head()"
      ]
    },
    {
      "cell_type": "code",
      "execution_count": 15,
      "metadata": {
        "id": "L6fkwOeOmqvq",
        "colab": {
          "base_uri": "https://localhost:8080/"
        },
        "outputId": "c4203319-0bf9-4f90-ce94-3ef871325634"
      },
      "outputs": [
        {
          "output_type": "stream",
          "name": "stdout",
          "text": [
            "+----------+---------+\n",
            "|date_built|avg_price|\n",
            "+----------+---------+\n",
            "|      2010|296800.75|\n",
            "|      2011| 302141.9|\n",
            "|      2012|298233.42|\n",
            "|      2013|299999.39|\n",
            "|      2014|299073.89|\n",
            "|      2015|307908.86|\n",
            "|      2016|296050.24|\n",
            "|      2017|296576.69|\n",
            "+----------+---------+\n",
            "\n"
          ]
        }
      ],
      "source": [
        "# 3. What is the average price for a four bedroom house sold in each year rounded to two decimal places?\n",
        "query = \"\"\"\n",
        "SELECT date_built, ROUND(AVG(price), 2) AS avg_price\n",
        "FROM home_sales\n",
        "WHERE bedrooms = 4\n",
        "GROUP BY date_built\n",
        "ORDER BY date_built\n",
        "\"\"\"\n",
        "\n",
        "result = spark.sql(query)\n",
        "\n",
        "# Show the result\n",
        "result.show()\n"
      ]
    },
    {
      "cell_type": "code",
      "execution_count": 16,
      "metadata": {
        "id": "l8p_tUS8h8it",
        "colab": {
          "base_uri": "https://localhost:8080/"
        },
        "outputId": "6f2b025f-187a-40c3-ce0a-7b7e47ba18d2"
      },
      "outputs": [
        {
          "output_type": "stream",
          "name": "stdout",
          "text": [
            "+----------+---------+\n",
            "|date_built|avg_price|\n",
            "+----------+---------+\n",
            "|      2010|292859.62|\n",
            "|      2011|291117.47|\n",
            "|      2012|293683.19|\n",
            "|      2013|295962.27|\n",
            "|      2014|290852.27|\n",
            "|      2015| 288770.3|\n",
            "|      2016|290555.07|\n",
            "|      2017|292676.79|\n",
            "+----------+---------+\n",
            "\n"
          ]
        }
      ],
      "source": [
        "# 4. What is the average price of a home for each year the home was built that have 3 bedrooms and 3 bathrooms rounded to two decimal places?\n",
        "query = \"\"\"\n",
        "SELECT date_built, ROUND(AVG(price), 2) AS avg_price\n",
        "FROM home_sales\n",
        "WHERE bedrooms = 3 AND bathrooms = 3\n",
        "GROUP BY date_built\n",
        "ORDER BY date_built\n",
        "\"\"\"\n",
        "\n",
        "result = spark.sql(query)\n",
        "\n",
        "# Show the result\n",
        "result.show()\n"
      ]
    },
    {
      "cell_type": "code",
      "execution_count": 17,
      "metadata": {
        "id": "Y-Eytz64liDU",
        "colab": {
          "base_uri": "https://localhost:8080/"
        },
        "outputId": "34e39f37-6756-44c5-8188-a3fb39944645"
      },
      "outputs": [
        {
          "output_type": "stream",
          "name": "stdout",
          "text": [
            "+----------+---------+\n",
            "|date_built|avg_price|\n",
            "+----------+---------+\n",
            "|      2010|285010.22|\n",
            "|      2011|276553.81|\n",
            "|      2012|307539.97|\n",
            "|      2013|303676.79|\n",
            "|      2014|298264.72|\n",
            "|      2015|297609.97|\n",
            "|      2016| 293965.1|\n",
            "|      2017|280317.58|\n",
            "+----------+---------+\n",
            "\n"
          ]
        }
      ],
      "source": [
        "# 5. What is the average price of a home for each year built that have 3 bedrooms, 3 bathrooms, with two floors,\n",
        "# and are greater than or equal to 2,000 square feet rounded to two decimal places?\n",
        "query = \"\"\"\n",
        "SELECT date_built, ROUND(AVG(price), 2) AS avg_price\n",
        "FROM home_sales\n",
        "WHERE bedrooms = 3 AND bathrooms = 3 AND floors = 2 AND sqft_living >= 2000\n",
        "GROUP BY date_built\n",
        "ORDER BY date_built\n",
        "\"\"\"\n",
        "result = spark.sql(query)\n",
        "\n",
        "# Show the result\n",
        "result.show()\n"
      ]
    },
    {
      "cell_type": "code",
      "execution_count": 18,
      "metadata": {
        "colab": {
          "base_uri": "https://localhost:8080/"
        },
        "id": "GUrfgOX1pCRd",
        "outputId": "17345831-9147-4e54-f825-21aac5f0ace7"
      },
      "outputs": [
        {
          "output_type": "stream",
          "name": "stdout",
          "text": [
            "+--------+\n",
            "|avg_view|\n",
            "+--------+\n",
            "|   32.26|\n",
            "+--------+\n",
            "\n",
            "--- 0.8104205131530762 seconds ---\n"
          ]
        }
      ],
      "source": [
        "# 6. What is the \"view\" rating for the average price of a home, rounded to two decimal places, where the homes are greater than\n",
        "# or equal to $350,000? Although this is a small dataset, determine the run time for this query.\n",
        "\n",
        "start_time = time.time()\n",
        "query = \"\"\"\n",
        "SELECT ROUND(AVG(view), 2) AS avg_view\n",
        "FROM home_sales\n",
        "WHERE price >= 350000\n",
        "\"\"\"\n",
        "\n",
        "result = spark.sql(query)\n",
        "# Show the result\n",
        "result.show()\n",
        "\n",
        "print(\"--- %s seconds ---\" % (time.time() - start_time))"
      ]
    },
    {
      "cell_type": "code",
      "execution_count": 19,
      "metadata": {
        "id": "KAhk3ZD2tFy8"
      },
      "outputs": [],
      "source": [
        "# 7.  Cache the temporary table home_sales.\n",
        "spark.catalog.cacheTable(\"home_sales\")"
      ]
    },
    {
      "cell_type": "code",
      "execution_count": 20,
      "metadata": {
        "id": "4opVhbvxtL-i",
        "colab": {
          "base_uri": "https://localhost:8080/"
        },
        "outputId": "c8a38dd4-b798-4f79-e45e-b8fae4997826"
      },
      "outputs": [
        {
          "output_type": "execute_result",
          "data": {
            "text/plain": [
              "True"
            ]
          },
          "metadata": {},
          "execution_count": 20
        }
      ],
      "source": [
        "# 8. Check if the table is cached.\n",
        "spark.catalog.isCached('home_sales')"
      ]
    },
    {
      "cell_type": "code",
      "execution_count": 21,
      "metadata": {
        "colab": {
          "base_uri": "https://localhost:8080/"
        },
        "id": "5GnL46lwTSEk",
        "outputId": "9fc106a1-066b-427c-b098-e7187578c290"
      },
      "outputs": [
        {
          "output_type": "stream",
          "name": "stdout",
          "text": [
            "+------------+\n",
            "|average_view|\n",
            "+------------+\n",
            "|      32.264|\n",
            "+------------+\n",
            "\n",
            "--- 3.0393455028533936 seconds ---\n"
          ]
        }
      ],
      "source": [
        "# 9. Using the cached data, run the query that filters out the view ratings with average price\n",
        "#  greater than or equal to $350,000. Determine the runtime and compare it to uncached runtime.\n",
        "\n",
        "start_time = time.time()\n",
        "result = spark.sql(\"\"\"\n",
        "    SELECT AVG(view) AS average_view\n",
        "    FROM home_sales\n",
        "    WHERE price >= 350000\n",
        "\"\"\")\n",
        "\n",
        "# Show the result\n",
        "result.show()\n",
        "\n",
        "print(\"--- %s seconds ---\" % (time.time() - start_time))\n"
      ]
    },
    {
      "cell_type": "code",
      "execution_count": 26,
      "metadata": {
        "id": "Qm12WN9isHBR"
      },
      "outputs": [],
      "source": [
        "# 10. Partition by the \"date_built\" field on the formatted parquet home sales data\n",
        "home_sales_df = spark.sql(\"SELECT * FROM home_sales\")\n",
        "home_sales_df.write.partitionBy(\"date_built\").parquet(\"parquet_data\")"
      ]
    },
    {
      "cell_type": "code",
      "execution_count": 27,
      "metadata": {
        "id": "AZ7BgY61sRqY",
        "colab": {
          "base_uri": "https://localhost:8080/"
        },
        "outputId": "8924da34-5602-4977-ce87-1a2f527be68a"
      },
      "outputs": [
        {
          "output_type": "stream",
          "name": "stdout",
          "text": [
            "+--------------------+----------+-------+--------+---------+-----------+--------+------+----------+----+----------+\n",
            "|                  id|      date|  price|bedrooms|bathrooms|sqft_living|sqft_lot|floors|waterfront|view|date_built|\n",
            "+--------------------+----------+-------+--------+---------+-----------+--------+------+----------+----+----------+\n",
            "|62c69180-ab61-47c...|2020-07-06| 395216|       4|        2|       2428|    8908|     2|         0|  20|      2017|\n",
            "|273b36f4-26eb-4dd...|2021-04-27| 306223|       2|        2|       2181|   12568|     1|         0|   2|      2017|\n",
            "|e2919f3b-af95-464...|2021-12-12| 152105|       2|        3|       1998|   11236|     2|         0|  21|      2017|\n",
            "|1c0eeb36-0f40-479...|2022-04-07| 150817|       3|        3|       2283|    8650|     2|         0|   8|      2017|\n",
            "|29a05191-0b08-4ac...|2021-03-02|1471564|       8|        3|       5088|   10228|     2|         0|  97|      2017|\n",
            "|db7e9f31-e4fd-407...|2019-12-29| 152809|       3|        3|       1834|   14919|     1|         0|  30|      2017|\n",
            "|65b73cd5-209c-4a3...|2020-11-23| 304874|       4|        3|       1989|   13400|     2|         0|  22|      2017|\n",
            "|3eb8a283-b245-48d...|2019-07-24| 299252|       3|        3|       1844|   11794|     2|         0|  41|      2017|\n",
            "|3527a19f-54a4-40a...|2022-03-18| 240302|       4|        3|       1624|   14287|     2|         0|  43|      2017|\n",
            "|f30ec200-903a-43e...|2019-04-06| 359315|       2|        3|       1874|   10518|     2|         0|   0|      2017|\n",
            "|5fb15149-c0ee-43f...|2022-05-16| 236564|       4|        2|       1722|    8018|     2|         0|  18|      2017|\n",
            "|c2182c7b-dbdd-44c...|2020-08-07| 182892|       4|        3|       1859|   14465|     2|         0|   9|      2017|\n",
            "|ee89f7be-7499-4b6...|2019-11-24| 307088|       2|        2|       1854|   10283|     2|         0|  42|      2017|\n",
            "|85e0b0e3-d49f-4d9...|2022-03-31| 120586|       3|        3|       2197|   14627|     1|         0|  27|      2017|\n",
            "|0863d9f1-0a2f-479...|2021-02-11| 380920|       2|        3|       1536|    8874|     2|         0|   3|      2017|\n",
            "|ee174230-be1d-4c5...|2020-06-16| 136723|       2|        3|       1573|   14629|     2|         0|  44|      2017|\n",
            "|c2939c62-40e3-44e...|2020-06-07| 827287|       3|        4|       5217|   14513|     1|         0|  78|      2017|\n",
            "|012023d6-837a-43d...|2019-05-20| 137045|       3|        3|       2144|    8349|     1|         0|  42|      2017|\n",
            "|ac2a2e5b-1984-48f...|2020-01-25| 347802|       2|        2|       1616|   10262|     2|         0|   6|      2017|\n",
            "|959bb26a-6e06-448...|2020-12-17| 414938|       2|        3|       2466|   13301|     1|         0|  47|      2017|\n",
            "+--------------------+----------+-------+--------+---------+-----------+--------+------+----------+----+----------+\n",
            "only showing top 20 rows\n",
            "\n"
          ]
        }
      ],
      "source": [
        "# 11. Read the parquet formatted data.\n",
        "parquet_df = spark.read.parquet(\"parquet_data\")\n",
        "\n",
        "# Show the first few rows of the DataFrame\n",
        "parquet_df.show()"
      ]
    },
    {
      "cell_type": "code",
      "execution_count": 28,
      "metadata": {
        "id": "J6MJkHfvVcvh",
        "colab": {
          "base_uri": "https://localhost:8080/"
        },
        "outputId": "e63d0d62-88b4-4e2e-db7f-660bd0fb27fc"
      },
      "outputs": [
        {
          "output_type": "stream",
          "name": "stdout",
          "text": [
            "+--------------------+----------+-------+--------+---------+-----------+--------+------+----------+----+----------+\n",
            "|                  id|      date|  price|bedrooms|bathrooms|sqft_living|sqft_lot|floors|waterfront|view|date_built|\n",
            "+--------------------+----------+-------+--------+---------+-----------+--------+------+----------+----+----------+\n",
            "|62c69180-ab61-47c...|2020-07-06| 395216|       4|        2|       2428|    8908|     2|         0|  20|      2017|\n",
            "|273b36f4-26eb-4dd...|2021-04-27| 306223|       2|        2|       2181|   12568|     1|         0|   2|      2017|\n",
            "|e2919f3b-af95-464...|2021-12-12| 152105|       2|        3|       1998|   11236|     2|         0|  21|      2017|\n",
            "|1c0eeb36-0f40-479...|2022-04-07| 150817|       3|        3|       2283|    8650|     2|         0|   8|      2017|\n",
            "|29a05191-0b08-4ac...|2021-03-02|1471564|       8|        3|       5088|   10228|     2|         0|  97|      2017|\n",
            "|db7e9f31-e4fd-407...|2019-12-29| 152809|       3|        3|       1834|   14919|     1|         0|  30|      2017|\n",
            "|65b73cd5-209c-4a3...|2020-11-23| 304874|       4|        3|       1989|   13400|     2|         0|  22|      2017|\n",
            "|3eb8a283-b245-48d...|2019-07-24| 299252|       3|        3|       1844|   11794|     2|         0|  41|      2017|\n",
            "|3527a19f-54a4-40a...|2022-03-18| 240302|       4|        3|       1624|   14287|     2|         0|  43|      2017|\n",
            "|f30ec200-903a-43e...|2019-04-06| 359315|       2|        3|       1874|   10518|     2|         0|   0|      2017|\n",
            "|5fb15149-c0ee-43f...|2022-05-16| 236564|       4|        2|       1722|    8018|     2|         0|  18|      2017|\n",
            "|c2182c7b-dbdd-44c...|2020-08-07| 182892|       4|        3|       1859|   14465|     2|         0|   9|      2017|\n",
            "|ee89f7be-7499-4b6...|2019-11-24| 307088|       2|        2|       1854|   10283|     2|         0|  42|      2017|\n",
            "|85e0b0e3-d49f-4d9...|2022-03-31| 120586|       3|        3|       2197|   14627|     1|         0|  27|      2017|\n",
            "|0863d9f1-0a2f-479...|2021-02-11| 380920|       2|        3|       1536|    8874|     2|         0|   3|      2017|\n",
            "|ee174230-be1d-4c5...|2020-06-16| 136723|       2|        3|       1573|   14629|     2|         0|  44|      2017|\n",
            "|c2939c62-40e3-44e...|2020-06-07| 827287|       3|        4|       5217|   14513|     1|         0|  78|      2017|\n",
            "|012023d6-837a-43d...|2019-05-20| 137045|       3|        3|       2144|    8349|     1|         0|  42|      2017|\n",
            "|ac2a2e5b-1984-48f...|2020-01-25| 347802|       2|        2|       1616|   10262|     2|         0|   6|      2017|\n",
            "|959bb26a-6e06-448...|2020-12-17| 414938|       2|        3|       2466|   13301|     1|         0|  47|      2017|\n",
            "+--------------------+----------+-------+--------+---------+-----------+--------+------+----------+----+----------+\n",
            "only showing top 20 rows\n",
            "\n"
          ]
        }
      ],
      "source": [
        "# 12. Create a temporary table for the parquet data.\n",
        "parquet_df.createOrReplaceTempView(\"parquet_home_sales\")\n",
        "# Query temporary table to check if it's created successfully\n",
        "spark.sql(\"SELECT * FROM parquet_home_sales\").show()"
      ]
    },
    {
      "cell_type": "code",
      "execution_count": 29,
      "metadata": {
        "colab": {
          "base_uri": "https://localhost:8080/"
        },
        "id": "G_Vhb52rU1Sn",
        "outputId": "81da0772-e7c9-452c-bab8-d070b3f7e24d"
      },
      "outputs": [
        {
          "output_type": "stream",
          "name": "stdout",
          "text": [
            "+--------+\n",
            "|avg_view|\n",
            "+--------+\n",
            "|   32.26|\n",
            "+--------+\n",
            "\n",
            "--- 1.3188464641571045 seconds ---\n"
          ]
        }
      ],
      "source": [
        "# 13. Run the query that filters out the view ratings with average price of greater than or equal to $350,000\n",
        "# with the parquet DataFrame. Round your average to two decimal places.\n",
        "# Determine the runtime and compare it to the cached version.\n",
        "\n",
        "start_time = time.time()\n",
        "result = spark.sql(\"\"\"\n",
        "    SELECT ROUND(AVG(view), 2) AS avg_view\n",
        "    FROM parquet_home_sales\n",
        "    WHERE price >= 350000\n",
        "\"\"\")\n",
        "\n",
        "# Show the result\n",
        "result.show()\n",
        "\n",
        "\n",
        "print(\"--- %s seconds ---\" % (time.time() - start_time))"
      ]
    },
    {
      "cell_type": "code",
      "execution_count": 30,
      "metadata": {
        "id": "hjjYzQGjtbq8"
      },
      "outputs": [],
      "source": [
        "# 14. Uncache the home_sales temporary table.\n",
        "spark.catalog.uncacheTable(\"home_sales\")"
      ]
    },
    {
      "cell_type": "code",
      "execution_count": 31,
      "metadata": {
        "id": "Sy9NBvO7tlmm",
        "colab": {
          "base_uri": "https://localhost:8080/"
        },
        "outputId": "003dadfc-2e72-4687-f099-ce373c0a8298"
      },
      "outputs": [
        {
          "output_type": "stream",
          "name": "stdout",
          "text": [
            "The home_sales temporary table is no longer cached.\n"
          ]
        }
      ],
      "source": [
        "# 15. Check if the home_sales is no longer cached\n",
        "is_cached = spark.catalog.isCached('home_sales')\n",
        "\n",
        "if not is_cached:\n",
        "    print(\"The home_sales temporary table is no longer cached.\")\n",
        "else:\n",
        "    print(\"The home_sales temporary table is still cached.\")\n"
      ]
    },
    {
      "cell_type": "code",
      "execution_count": null,
      "metadata": {
        "id": "Si-BNruRUGK3"
      },
      "outputs": [],
      "source": []
    }
  ],
  "metadata": {
    "colab": {
      "provenance": []
    },
    "gpuClass": "standard",
    "kernelspec": {
      "display_name": "Python 3 (ipykernel)",
      "language": "python",
      "name": "python3"
    },
    "language_info": {
      "codemirror_mode": {
        "name": "ipython",
        "version": 3
      },
      "file_extension": ".py",
      "mimetype": "text/x-python",
      "name": "python",
      "nbconvert_exporter": "python",
      "pygments_lexer": "ipython3",
      "version": "3.10.4"
    },
    "nteract": {
      "version": "0.28.0"
    }
  },
  "nbformat": 4,
  "nbformat_minor": 0
}